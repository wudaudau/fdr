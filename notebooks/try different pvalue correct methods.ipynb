{
 "cells": [
  {
   "cell_type": "markdown",
   "metadata": {},
   "source": [
    "# Notes\n",
    "\n",
    "- There are 2 examples:\n",
    "  - From the article 2019_Why, When and How to Adjust Your P Values_ (jafari.ansari-pour_2019)\n",
    "  - https://stackoverflow.com/questions/25185205/calculating-adjusted-p-values-in-python\n",
    "- To correct the p-value, there are several methods\n",
    "  - Bonferroni (one-step correction)\n",
    "  - Benjamini-Hochberg (FDR) (non-negative)\n",
    "  - Benjaminini-Yekutieli (negative)\n",
    "- In Python, there are `scipy` and `statsmodels` to calculate it.\n",
    "- I roughly tried in below to see the results obtained using different py packages give the same outputs. So just use one for our need."
   ]
  },
  {
   "cell_type": "markdown",
   "metadata": {},
   "source": [
    "# Example from the article\n",
    "\n",
    "- Article 2019_Why, When and How to Adjust Your P Values_ (jafari.ansari-pour_2019). They use R.\n",
    "- There are Bonferroni and FDR\n",
    "\n",
    "```R\n",
    "P_value <- c(0.0001, 0.001, 0.006, 0.03, 0.095, 0.117, 0.234, 0.552, 0.751, 0.985).\n",
    "```\n",
    "\n",
    "```R\n",
    "p.adjust (P_values, method=\"bonferroni\")\n",
    "## [1] 0.001 0.010 0.060 0.300 0.950 1.000 1.000 1.000 1.000 1.000\n",
    "```\n",
    "\n",
    "\n",
    "```R\n",
    "p.adjust (P_values, method=\"fdr\")\n",
    "## [1] 0.001 0.005 0.02 0.075 0.19 0.195 ## [7] 0.334 0.690 0.834 0.985\n",
    "```"
   ]
  },
  {
   "cell_type": "code",
   "execution_count": 13,
   "metadata": {},
   "outputs": [
    {
     "data": {
      "text/plain": [
       "(array([ True,  True, False, False, False, False, False, False, False,\n",
       "        False]),\n",
       " array([0.001, 0.01 , 0.06 , 0.3  , 0.95 , 1.   , 1.   , 1.   , 1.   ,\n",
       "        1.   ]),\n",
       " 0.005116196891823743,\n",
       " 0.005)"
      ]
     },
     "execution_count": 13,
     "metadata": {},
     "output_type": "execute_result"
    }
   ],
   "source": [
    "# do benferroni using Python\n",
    "\n",
    "\n",
    "from statsmodels.stats.multitest import multipletests\n",
    "\n",
    "ps = [0.0001, 0.001, 0.006, 0.03, 0.095, 0.117, 0.234, 0.552, 0.751, 0.985]\n",
    "multipletests(ps, method='bonferroni')\n",
    "\n",
    "## [1] 0.001 0.010 0.060 0.300 0.950 1.000 1.000 1.000 1.000 1.000"
   ]
  },
  {
   "cell_type": "code",
   "execution_count": 8,
   "metadata": {},
   "outputs": [
    {
     "data": {
      "text/plain": [
       "array([0.001     , 0.005     , 0.02      , 0.075     , 0.19      ,\n",
       "       0.195     , 0.33428571, 0.69      , 0.83444444, 0.985     ])"
      ]
     },
     "execution_count": 8,
     "metadata": {},
     "output_type": "execute_result"
    }
   ],
   "source": [
    "from scipy.stats import false_discovery_control as sp_fdc     # False Discovery Control\n",
    "\n",
    "ps = [0.0001, 0.001, 0.006, 0.03, 0.095, 0.117, 0.234, 0.552, 0.751, 0.985]\n",
    "sp_fdc(ps)\n",
    "\n",
    "## [1] 0.001 0.005 0.02 0.075 0.19 0.195 \n",
    "## [7] 0.334 0.690 0.834 0.985"
   ]
  },
  {
   "cell_type": "markdown",
   "metadata": {},
   "source": [
    "# Example from stackoverflow\n",
    "\n",
    "- https://stackoverflow.com/questions/25185205/calculating-adjusted-p-values-in-python"
   ]
  },
  {
   "cell_type": "markdown",
   "metadata": {},
   "source": [
    "## Use `scipy.false_discovery_control`"
   ]
  },
  {
   "cell_type": "code",
   "execution_count": 11,
   "metadata": {},
   "outputs": [
    {
     "data": {
      "text/plain": [
       "array([0.0015    , 0.003     , 0.0095    , 0.035625  , 0.0603    ,\n",
       "       0.06385714, 0.06385714, 0.0645    , 0.0765    , 0.486     ,\n",
       "       0.58118182, 0.714875  , 0.75323077, 0.81321429, 1.        ])"
      ]
     },
     "execution_count": 11,
     "metadata": {},
     "output_type": "execute_result"
    }
   ],
   "source": [
    "# [https://scipy.github.io/devdocs/reference/generated/scipy.stats.false_discovery_control.html](https://scipy.github.io/devdocs/reference/generated/scipy.stats.false_discovery_control.html)\n",
    "\n",
    "from scipy.stats import false_discovery_control as sp_fdc     # False Discovery Control\n",
    "\n",
    "ps = [0.0001, 0.0004, 0.0019, 0.0095, 0.0201, 0.0278, 0.0298, 0.0344,\n",
    "      0.0459, 0.3240, 0.4262, 0.5719, 0.6528, 0.7590, 1.000]\n",
    "sp_fdc(ps)\n",
    "\n",
    "# array([0.0015    , 0.003     , 0.0095    , 0.035625  , 0.0603    ,\n",
    "#        0.06385714, 0.06385714, 0.0645    , 0.0765    , 0.486     ,\n",
    "#        0.58118182, 0.714875  , 0.75323077, 0.81321429, 1.        ])"
   ]
  },
  {
   "cell_type": "markdown",
   "metadata": {},
   "source": [
    "## Use `scipy`"
   ]
  },
  {
   "cell_type": "code",
   "execution_count": 12,
   "metadata": {},
   "outputs": [
    {
     "data": {
      "text/plain": [
       "array([0.0015    , 0.003     , 0.0095    , 0.035625  , 0.0603    ,\n",
       "       0.0695    , 0.06385714, 0.0645    , 0.0765    , 0.486     ,\n",
       "       0.58118182, 0.714875  , 0.75323077, 0.81321429, 1.        ])"
      ]
     },
     "execution_count": 12,
     "metadata": {},
     "output_type": "execute_result"
    }
   ],
   "source": [
    "from scipy.stats import rankdata\n",
    "\n",
    "def fdr(p_vals):\n",
    "\n",
    "    ranked_p_values = rankdata(p_vals)\n",
    "    fdr = p_vals * (len(p_vals) / ranked_p_values)\n",
    "    fdr[fdr > 1] = 1\n",
    "\n",
    "    return fdr\n",
    "\n",
    "fdr(ps)\n",
    "\n",
    "# array([0.0015    , 0.003     , 0.0095    , 0.035625  , 0.0603    ,\n",
    "#        0.06385714, 0.06385714, 0.0645    , 0.0765    , 0.486     ,\n",
    "#        0.58118182, 0.714875  , 0.75323077, 0.81321429, 1.        ])"
   ]
  },
  {
   "cell_type": "markdown",
   "metadata": {},
   "source": [
    "## Use `statsmodels`\n",
    "\n",
    "- https://www.statsmodels.org/dev/generated/statsmodels.stats.multitest.multipletests.html"
   ]
  },
  {
   "cell_type": "code",
   "execution_count": 6,
   "metadata": {},
   "outputs": [
    {
     "data": {
      "text/plain": [
       "(array([ True,  True,  True,  True, False, False, False, False, False,\n",
       "        False, False, False, False, False, False]),\n",
       " array([0.0015    , 0.003     , 0.0095    , 0.035625  , 0.0603    ,\n",
       "        0.06385714, 0.06385714, 0.0645    , 0.0765    , 0.486     ,\n",
       "        0.58118182, 0.714875  , 0.75323077, 0.81321429, 1.        ]),\n",
       " 0.0034137129465903193,\n",
       " 0.0033333333333333335)"
      ]
     },
     "execution_count": 6,
     "metadata": {},
     "output_type": "execute_result"
    }
   ],
   "source": [
    "from statsmodels.stats.multitest import multipletests\n",
    "\n",
    "multipletests(ps, method='fdr_bh')\n",
    "\n",
    "# array([0.0015    , 0.003     , 0.0095    , 0.035625  , 0.0603    ,\n",
    "#        0.06385714, 0.06385714, 0.0645    , 0.0765    , 0.486     ,\n",
    "#        0.58118182, 0.714875  , 0.75323077, 0.81321429, 1.        ])"
   ]
  },
  {
   "cell_type": "code",
   "execution_count": 5,
   "metadata": {},
   "outputs": [
    {
     "data": {
      "text/plain": [
       "(array([ True,  True,  True,  True, False, False, False, False, False,\n",
       "        False, False, False, False, False, False]),\n",
       " array([0.0015    , 0.003     , 0.0095    , 0.035625  , 0.0603    ,\n",
       "        0.06385714, 0.06385714, 0.0645    , 0.0765    , 0.486     ,\n",
       "        0.58118182, 0.714875  , 0.75323077, 0.81321429, 1.        ]))"
      ]
     },
     "execution_count": 5,
     "metadata": {},
     "output_type": "execute_result"
    }
   ],
   "source": [
    "from statsmodels.stats.multitest import fdrcorrection\n",
    "\n",
    "fdrcorrection(ps, alpha=0.05, method='indep', is_sorted=False)\n",
    "\n",
    "# array([0.0015    , 0.003     , 0.0095    , 0.035625  , 0.0603    ,\n",
    "#        0.06385714, 0.06385714, 0.0645    , 0.0765    , 0.486     ,\n",
    "#        0.58118182, 0.714875  , 0.75323077, 0.81321429, 1.        ])"
   ]
  },
  {
   "cell_type": "code",
   "execution_count": null,
   "metadata": {},
   "outputs": [],
   "source": []
  }
 ],
 "metadata": {
  "kernelspec": {
   "display_name": "venv",
   "language": "python",
   "name": "python3"
  },
  "language_info": {
   "codemirror_mode": {
    "name": "ipython",
    "version": 3
   },
   "file_extension": ".py",
   "mimetype": "text/x-python",
   "name": "python",
   "nbconvert_exporter": "python",
   "pygments_lexer": "ipython3",
   "version": "3.10.4"
  }
 },
 "nbformat": 4,
 "nbformat_minor": 2
}
